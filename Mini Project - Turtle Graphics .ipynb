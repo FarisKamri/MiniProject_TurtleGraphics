{
 "cells": [
  {
   "cell_type": "code",
   "execution_count": 2,
   "id": "a09b7f63",
   "metadata": {},
   "outputs": [],
   "source": [
    "import turtle"
   ]
  },
  {
   "cell_type": "code",
   "execution_count": 3,
   "id": "7c6229bc",
   "metadata": {},
   "outputs": [],
   "source": [
    "#Testing if the import works with simple turtle commands"
   ]
  },
  {
   "cell_type": "code",
   "execution_count": 7,
   "id": "a7a2ac85",
   "metadata": {
    "scrolled": false
   },
   "outputs": [],
   "source": [
    "turtle.bgcolor(\"black\")\n",
    "turtle.pensize(\"2\")\n",
    "turtle.color(\"red\")"
   ]
  },
  {
   "cell_type": "code",
   "execution_count": 8,
   "id": "3e4b471f",
   "metadata": {},
   "outputs": [],
   "source": [
    "#simple square\n",
    "\n",
    "turtle.forward(100)\n",
    "turtle.right(90)\n",
    "turtle.forward(100)\n",
    "turtle.right(90)\n",
    "turtle.forward(100)\n",
    "turtle.right(90)\n",
    "turtle.forward(100)\n",
    "turtle.right(90)\n",
    "turtle.done()"
   ]
  },
  {
   "cell_type": "code",
   "execution_count": 10,
   "id": "05d08ffd",
   "metadata": {
    "scrolled": true
   },
   "outputs": [],
   "source": [
    "#Second simple test\n",
    "\n",
    "turtle.bgcolor(\"black\")\n",
    "turtle.pensize(\"2\")\n",
    "turtle.color(\"red\")"
   ]
  },
  {
   "cell_type": "code",
   "execution_count": 11,
   "id": "202ec422",
   "metadata": {},
   "outputs": [],
   "source": [
    "for colours in [\"blue\",\"green\",\"yellow\"]:\n",
    "    turtle.color(colours)\n",
    "    turtle.forward(100)\n",
    "    turtle.right(90)\n",
    "    turtle.forward(100)\n",
    "    turtle.right(90)\n",
    "    turtle.forward(100)\n",
    "    turtle.right(90)\n",
    "    turtle.forward(100)\n",
    "    turtle.right(90)\n",
    "turtle.done()"
   ]
  },
  {
   "cell_type": "code",
   "execution_count": 13,
   "id": "65e58098",
   "metadata": {
    "scrolled": true
   },
   "outputs": [],
   "source": [
    "#Cool graphics using turtle\n",
    "\n",
    "turtle.bgcolor(\"black\")\n",
    "turtle.pensize(\"2\")\n",
    "turtle.color(\"red\")"
   ]
  },
  {
   "cell_type": "code",
   "execution_count": 14,
   "id": "bd79afe5",
   "metadata": {},
   "outputs": [],
   "source": [
    "turtle.speed(20)\n",
    "\n",
    "for i in range(12):\n",
    "    for colours in [\"blue\", \"purple\", \"red\", \"orange\", \"yellow\", \"green\"]:\n",
    "        turtle.color(colours)\n",
    "        turtle.circle(150)\n",
    "        turtle.left(5)\n",
    "turtle.done()"
   ]
  },
  {
   "cell_type": "code",
   "execution_count": null,
   "id": "2f132927",
   "metadata": {},
   "outputs": [],
   "source": []
  }
 ],
 "metadata": {
  "kernelspec": {
   "display_name": "Python 3",
   "language": "python",
   "name": "python3"
  },
  "language_info": {
   "codemirror_mode": {
    "name": "ipython",
    "version": 3
   },
   "file_extension": ".py",
   "mimetype": "text/x-python",
   "name": "python",
   "nbconvert_exporter": "python",
   "pygments_lexer": "ipython3",
   "version": "3.8.8"
  }
 },
 "nbformat": 4,
 "nbformat_minor": 5
}
